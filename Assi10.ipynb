{
 "cells": [
  {
   "cell_type": "markdown",
   "id": "27831f9b-2a95-49bb-b2c7-38846b2f087b",
   "metadata": {},
   "source": [
    "Q1. Create a vehicle class with an init method having instance variables as name_of_vehicle, max_speed\n",
    "and average_of_vehicle."
   ]
  },
  {
   "cell_type": "code",
   "execution_count": 1,
   "id": "f6cf7e9d-4b1a-4b4b-af88-6d2f8be8cf65",
   "metadata": {},
   "outputs": [],
   "source": [
    "class vehicle():\n",
    "     def __init__(self,name_of_vehicle, max_speed, average_of_vehicle):\n",
    "        self.name_of_vehicle = name_of_vehicle\n",
    "        self.max_speed = max_speed\n",
    "        self.average_of_vehicle = average_of_vehicle\n",
    "        \n",
    "    \n",
    "     def get_info(self):\n",
    "        return f\"{self.name_of_vehicle} {self.max_speed} {self.average_of_vehicle}\"\n",
    "\n",
    "\n",
    "    "
   ]
  },
  {
   "cell_type": "code",
   "execution_count": 2,
   "id": "a1c24d9e-aeb7-4e73-9fb7-102c6bc346e8",
   "metadata": {},
   "outputs": [],
   "source": [
    "car= vehicle(\"toyota\" , \"120\" , \"50\")"
   ]
  },
  {
   "cell_type": "code",
   "execution_count": 3,
   "id": "e4b28ec5-c5e9-4ed5-8846-ac1bd27966fd",
   "metadata": {},
   "outputs": [
    {
     "name": "stdout",
     "output_type": "stream",
     "text": [
      "toyota 120 50\n"
     ]
    }
   ],
   "source": [
    "car_info = car.get_info()\n",
    "print(car_info)\n",
    "\n"
   ]
  },
  {
   "cell_type": "markdown",
   "id": "9f00bebc-9b18-4df0-a0df-30c85bd2ef49",
   "metadata": {},
   "source": [
    "Q2. Create a child class car from the vehicle class created in Que 1, which will inherit the vehicle class.\n",
    "Create a method named seating_capacity which takes capacity as an argument and returns the name of\n",
    "the vehicle and its seating capacity."
   ]
  },
  {
   "cell_type": "code",
   "execution_count": 4,
   "id": "a3354333-8012-4454-8bf5-07d1e5c631fa",
   "metadata": {},
   "outputs": [],
   "source": [
    "class Car(vehicle):\n",
    "   \n",
    "\n",
    "   def child(self,seating_capacity):\n",
    "        self.seating_capacity = seating_capacity\n",
    "        return f\"{self.name_of_vehicle} has a seating capacity of {self.seating_capacity} people.\"\n",
    "    \n",
    "        "
   ]
  },
  {
   "cell_type": "code",
   "execution_count": 7,
   "id": "32b629d9-7679-4c3b-ac1f-5ea2b3a8c8b6",
   "metadata": {},
   "outputs": [
    {
     "name": "stdout",
     "output_type": "stream",
     "text": [
      "Toyota Corolla has a seating capacity of 5 people.\n"
     ]
    }
   ],
   "source": [
    "my_car = Car(\"Toyota Corolla\", 120, 60)\n",
    "print(my_car.child(5))\n",
    "\n"
   ]
  },
  {
   "cell_type": "markdown",
   "id": "1c666cba-5856-4e35-bcf8-8d9ed9d75126",
   "metadata": {},
   "source": [
    "Q3. What is multiple inheritance? Write a python code to demonstrate multiple inheritance."
   ]
  },
  {
   "cell_type": "markdown",
   "id": "2e8ef9ad-8969-4e6a-8527-7f25251919e8",
   "metadata": {},
   "source": [
    "Multiple inheritance is a feature in object-oriented programming language that allows a subclass to inherit \n",
    "properties and methods from multiple parent classes. In other words, a subclass can inherit from two or more classes at the same time.\n"
   ]
  },
  {
   "cell_type": "code",
   "execution_count": 8,
   "id": "bdd80f9e-6b8b-4a7d-a8c7-ae73471f8554",
   "metadata": {},
   "outputs": [
    {
     "name": "stdout",
     "output_type": "stream",
     "text": [
      "Method A\n",
      "Method B\n",
      "Method C\n"
     ]
    }
   ],
   "source": [
    "class A:\n",
    "    def method_a(self):\n",
    "        print(\"Method A\")\n",
    "\n",
    "class B:\n",
    "    def method_b(self):\n",
    "        print(\"Method B\")\n",
    "\n",
    "class C(A, B):\n",
    "    def method_c(self):\n",
    "        print(\"Method C\")\n",
    "\n",
    "obj = C()\n",
    "\n",
    "obj.method_a()\n",
    "obj.method_b()\n",
    "obj.method_c()"
   ]
  },
  {
   "cell_type": "markdown",
   "id": "b944c210-063c-4402-b213-1d6bcdc19276",
   "metadata": {},
   "source": [
    "Q4. What are getter and setter in python? Create a class and create a getter and a setter method in this\n",
    "class."
   ]
  },
  {
   "cell_type": "markdown",
   "id": "8d070358-a14f-4724-bfac-efba6f9b900c",
   "metadata": {},
   "source": [
    "In python, a getter is a method that is used to retrieve the value of an attributes of an object, and a setter is a method that is used to set the value of an attribute of an object.\n",
    "\n",
    "A getter method is usally name with the prefix 'get__' , and a setter method is usally named with the prefix 'set_'.\n",
    "\n",
    "Here\"s an example of a class that has a getter and a setter method for an attribute named 'name':\n"
   ]
  },
  {
   "cell_type": "code",
   "execution_count": 9,
   "id": "cd755fcd-9e0f-49af-8713-65cd7e6d7bf6",
   "metadata": {},
   "outputs": [],
   "source": [
    "class Employee:\n",
    "    def __init__(self):\n",
    "        self._name = None\n",
    "\n",
    "    def get_name(self):\n",
    "        return self._name\n",
    "\n",
    "    def set_name(self, name):\n",
    "        self._name = name"
   ]
  },
  {
   "cell_type": "code",
   "execution_count": 10,
   "id": "83b26ad3-035c-448e-9ad6-b3120ead1186",
   "metadata": {},
   "outputs": [
    {
     "name": "stdout",
     "output_type": "stream",
     "text": [
      "Darshan\n"
     ]
    }
   ],
   "source": [
    "Employee = Employee()\n",
    "\n",
    "Employee.set_name(\"Darshan\")\n",
    "\n",
    "print(Employee.get_name())"
   ]
  },
  {
   "cell_type": "markdown",
   "id": "cf615a02-92e1-4bc2-97c0-84dae3141ceb",
   "metadata": {},
   "source": [
    "Q5.What is method overriding in python? Write a python code to demonstrate method overriding."
   ]
  },
  {
   "cell_type": "markdown",
   "id": "dc86408b-e912-4979-83bd-f45e761b6368",
   "metadata": {},
   "source": [
    "Method overriding is a feature of object-oriented programming that allows a subclass to provide a different implementation of a method that is already defined in its parent class.\n",
    "In Python, method overriding is achieved by defining a method in the subclass with the same name as the method in the parent class.\n",
    "Here's an example code to demonstrate method overriding in Python:\n"
   ]
  },
  {
   "cell_type": "code",
   "execution_count": 14,
   "id": "1bb8e172-618e-493a-be3c-87214281ce45",
   "metadata": {},
   "outputs": [
    {
     "name": "stdout",
     "output_type": "stream",
     "text": [
      "Bark\n"
     ]
    }
   ],
   "source": [
    "class Animal:\n",
    "    def make_sound(self):\n",
    "        print(\"Generic animal sound\")\n",
    "\n",
    "class Dog(Animal):\n",
    "    def make_sound(self):\n",
    "        print(\"Bark\") \n",
    "\n",
    "dog = Dog()\n",
    "dog.make_sound()"
   ]
  },
  {
   "cell_type": "code",
   "execution_count": null,
   "id": "8f700b6a-1599-47d0-8376-f79bd26a1296",
   "metadata": {},
   "outputs": [],
   "source": []
  }
 ],
 "metadata": {
  "kernelspec": {
   "display_name": "Python 3 (ipykernel)",
   "language": "python",
   "name": "python3"
  },
  "language_info": {
   "codemirror_mode": {
    "name": "ipython",
    "version": 3
   },
   "file_extension": ".py",
   "mimetype": "text/x-python",
   "name": "python",
   "nbconvert_exporter": "python",
   "pygments_lexer": "ipython3",
   "version": "3.10.8"
  }
 },
 "nbformat": 4,
 "nbformat_minor": 5
}
